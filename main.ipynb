{
 "cells": [
  {
   "cell_type": "markdown",
   "metadata": {},
   "source": [
    "# Import all required packages"
   ]
  },
  {
   "cell_type": "code",
   "execution_count": 54,
   "metadata": {},
   "outputs": [],
   "source": [
    "from tensorflow.keras.layers import Input, Lambda, Dense, Flatten,Dropout,Conv2D,MaxPooling2D\n",
    "from tensorflow.keras.models import Model\n",
    "from tensorflow.keras.preprocessing import image\n",
    "from sklearn.metrics import accuracy_score,classification_report,confusion_matrix\n",
    "from tensorflow.keras.preprocessing.image import ImageDataGenerator\n",
    "from sklearn.model_selection import train_test_split\n",
    "from tensorflow.keras.models import Sequential\n",
    "import numpy as np\n",
    "import pandas as pd\n",
    "import os\n",
    "import cv2\n",
    "import matplotlib.pyplot as plt"
   ]
  },
  {
   "cell_type": "markdown",
   "metadata": {},
   "source": [
    "# Image Pre-Processing\n",
    "\n",
    "Whenever we deal with image data, image pre-processing is the very first step and also the most crucial step to be performed. Here, we just reshape all the images to the desired size(100×100 in this project) and divide them by 255 as a step of normalization."
   ]
  },
  {
   "cell_type": "code",
   "execution_count": 59,
   "metadata": {},
   "outputs": [
    {
     "name": "stdout",
     "output_type": "stream",
     "text": [
      "Loaded images: 4171\n",
      "Failed images: 2\n",
      "First image shape: (100, 100, 3)\n"
     ]
    }
   ],
   "source": [
    "import os\n",
    "from PIL import Image\n",
    "import numpy as np\n",
    "import logging\n",
    "\n",
    "# Set up logging\n",
    "logging.basicConfig(filename='image_loading_errors.log', level=logging.ERROR)\n",
    "\n",
    "def load_images_from_directory(data_dir, target_size=(100, 100), normalize=True):\n",
    "    images = []\n",
    "    failed_images = []\n",
    "\n",
    "    for category in os.listdir(data_dir):  \n",
    "        category_path = os.path.join(data_dir, category)\n",
    "        if not os.path.isdir(category_path):  # Skip non-directory items\n",
    "            continue\n",
    "\n",
    "        for patient in os.listdir(category_path):\n",
    "            patient_path = os.path.join(category_path, patient)\n",
    "            if not os.path.isdir(patient_path):  # Skip non-directory items\n",
    "                continue\n",
    "\n",
    "            for filename in os.listdir(patient_path):\n",
    "                image_path = os.path.join(patient_path, filename)\n",
    "                \n",
    "                try:\n",
    "                    with Image.open(image_path) as img:\n",
    "                        img = img.convert('RGB')  # Ensure RGB format\n",
    "                        img = img.resize(target_size)\n",
    "                        img_array = np.array(img)\n",
    "\n",
    "                        if normalize:\n",
    "                            img_array = img_array.astype(np.float32) / 255.0\n",
    "\n",
    "                        images.append(img_array)\n",
    "\n",
    "                except Exception as e:\n",
    "                    logging.error(f\"Error loading image: {image_path}, Reason: {e}\")\n",
    "                    failed_images.append(image_path)\n",
    "\n",
    "    return np.array(images), failed_images\n",
    "\n",
    "# Usage\n",
    "data_dir = r'data' \n",
    "images, failed_images = load_images_from_directory(data_dir)\n",
    "\n",
    "print(\"Loaded images:\", len(images))\n",
    "print(\"Failed images:\", len(failed_images))\n",
    "print(\"First image shape:\", images[0].shape)  \n"
   ]
  },
  {
   "cell_type": "code",
   "execution_count": 62,
   "metadata": {},
   "outputs": [],
   "source": [
    "x = np.array(images)\n",
    "x = x/255.0"
   ]
  },
  {
   "cell_type": "code",
   "execution_count": 63,
   "metadata": {},
   "outputs": [
    {
     "name": "stdout",
     "output_type": "stream",
     "text": [
      "Found 4171 images belonging to 3 classes.\n"
     ]
    }
   ],
   "source": [
    "datagen = ImageDataGenerator(rescale = 1./255)\n",
    "dataset = datagen.flow_from_directory(path,\n",
    "                                      target_size = IMAGE_SIZE,\n",
    "                                      batch_size = 32,\n",
    "                                      class_mode = 'sparse')"
   ]
  },
  {
   "cell_type": "code",
   "execution_count": 71,
   "metadata": {},
   "outputs": [
    {
     "name": "stdout",
     "output_type": "stream",
     "text": [
      "(4171,)\n"
     ]
    }
   ],
   "source": [
    "dataset.class_indices\n",
    "y=dataset.classes\n",
    "print(y.shape)\n"
   ]
  },
  {
   "cell_type": "markdown",
   "metadata": {},
   "source": [
    "# Train-Test-Val split\n",
    "\n",
    "In this step, we will divide our dataset into a training set, testing set, and validation set in order to use the validation set approach to training our model to classify among the CT scans of COVID, healthy, or others."
   ]
  },
  {
   "cell_type": "code",
   "execution_count": 68,
   "metadata": {},
   "outputs": [],
   "source": [
    "x_train,x_test,y_train,y_test=train_test_split(x,y,test_size=0.1)\n",
    "x_train,x_val,y_train,y_val=train_test_split(x_train,y_train,test_size=0.2)"
   ]
  },
  {
   "cell_type": "markdown",
   "metadata": {},
   "source": [
    "# Build the Model\n",
    "\n",
    "Now, we are all set to start coding our CNN model for COVID-19 from scratch. For this, we just need to keep adding layers, mostly Conv2D to extract features and MaxPooling2D to perform downsampling of the image. Besides, I have also used the BatchNormalization layer in order to improve the performance of the model in terms of its training as well as validation accuracies."
   ]
  },
  {
   "cell_type": "code",
   "execution_count": 69,
   "metadata": {},
   "outputs": [
    {
     "data": {
      "text/plain": [
       "((418, 100, 100, 3), (418,))"
      ]
     },
     "execution_count": 69,
     "metadata": {},
     "output_type": "execute_result"
    }
   ],
   "source": [
    "x_train.shape,y_train.shape\n",
    "x_val.shape,y_val.shape\n",
    "x_test.shape,y_test.shape"
   ]
  },
  {
   "cell_type": "code",
   "execution_count": 73,
   "metadata": {},
   "outputs": [
    {
     "name": "stdout",
     "output_type": "stream",
     "text": [
      "Model: \"sequential_1\"\n",
      "_________________________________________________________________\n",
      " Layer (type)                Output Shape              Param #   \n",
      "=================================================================\n",
      " conv2d_1 (Conv2D)           (None, 98, 98, 32)        896       \n",
      "                                                                 \n",
      " max_pooling2d_1 (MaxPooling  (None, 49, 49, 32)       0         \n",
      " 2D)                                                             \n",
      "                                                                 \n",
      " batch_normalization (BatchN  (None, 49, 49, 32)       128       \n",
      " ormalization)                                                   \n",
      "                                                                 \n",
      " conv2d_2 (Conv2D)           (None, 47, 47, 32)        9248      \n",
      "                                                                 \n",
      " max_pooling2d_2 (MaxPooling  (None, 23, 23, 32)       0         \n",
      " 2D)                                                             \n",
      "                                                                 \n",
      " batch_normalization_1 (Batc  (None, 23, 23, 32)       128       \n",
      " hNormalization)                                                 \n",
      "                                                                 \n",
      " conv2d_3 (Conv2D)           (None, 21, 21, 64)        18496     \n",
      "                                                                 \n",
      " max_pooling2d_3 (MaxPooling  (None, 10, 10, 64)       0         \n",
      " 2D)                                                             \n",
      "                                                                 \n",
      " batch_normalization_2 (Batc  (None, 10, 10, 64)       256       \n",
      " hNormalization)                                                 \n",
      "                                                                 \n",
      " conv2d_4 (Conv2D)           (None, 8, 8, 64)          36928     \n",
      "                                                                 \n",
      " max_pooling2d_4 (MaxPooling  (None, 4, 4, 64)         0         \n",
      " 2D)                                                             \n",
      "                                                                 \n",
      " batch_normalization_3 (Batc  (None, 4, 4, 64)         256       \n",
      " hNormalization)                                                 \n",
      "                                                                 \n",
      " flatten (Flatten)           (None, 1024)              0         \n",
      "                                                                 \n",
      " dense (Dense)               (None, 3)                 3075      \n",
      "                                                                 \n",
      "=================================================================\n",
      "Total params: 69,411\n",
      "Trainable params: 69,027\n",
      "Non-trainable params: 384\n",
      "_________________________________________________________________\n"
     ]
    }
   ],
   "source": [
    "from tensorflow.keras.layers import BatchNormalization\n",
    "model=Sequential()\n",
    " \n",
    "\n",
    "#covolution layer\n",
    "model.add(Conv2D(32,(3,3),activation='relu',input_shape=(100,100,3)))\n",
    "#pooling layer\n",
    "model.add(MaxPooling2D(2,2))\n",
    "model.add(BatchNormalization())\n",
    "#covolution layer\n",
    "model.add(Conv2D(32,(3,3),activation='relu'))\n",
    "#pooling layer\n",
    "model.add(MaxPooling2D(2,2))\n",
    "model.add(BatchNormalization())\n",
    "#covolution layer\n",
    "model.add(Conv2D(64,(3,3),activation='relu'))\n",
    "#pooling layer\n",
    "model.add(MaxPooling2D(2,2))\n",
    "model.add(BatchNormalization())\n",
    "#covolution layer\n",
    "model.add(Conv2D(64,(3,3),activation='relu'))\n",
    "#pooling layer\n",
    "model.add(MaxPooling2D(2,2))\n",
    "model.add(BatchNormalization())\n",
    "#i/p layer\n",
    "model.add(Flatten())\n",
    "#o/p layer\n",
    "model.add(Dense(3,activation='softmax'))\n",
    "model.summary()"
   ]
  },
  {
   "cell_type": "code",
   "execution_count": 74,
   "metadata": {},
   "outputs": [],
   "source": [
    "model.compile(optimizer='adam',loss='sparse_categorical_crossentropy',metrics=['accuracy'])\n"
   ]
  },
  {
   "cell_type": "code",
   "execution_count": 76,
   "metadata": {},
   "outputs": [
    {
     "name": "stdout",
     "output_type": "stream",
     "text": [
      "Epoch 1/30\n",
      "94/94 [==============================] - 12s 35ms/step - loss: 0.8070 - accuracy: 0.6399 - val_loss: 1.0077 - val_accuracy: 0.5433\n",
      "Epoch 2/30\n",
      "94/94 [==============================] - 1s 10ms/step - loss: 0.5929 - accuracy: 0.7578 - val_loss: 1.0204 - val_accuracy: 0.5433\n",
      "Epoch 3/30\n",
      "94/94 [==============================] - 1s 10ms/step - loss: 0.4811 - accuracy: 0.8085 - val_loss: 1.1504 - val_accuracy: 0.2756\n",
      "Epoch 4/30\n",
      "94/94 [==============================] - 1s 10ms/step - loss: 0.4033 - accuracy: 0.8354 - val_loss: 0.9882 - val_accuracy: 0.5433\n",
      "Epoch 5/30\n",
      "94/94 [==============================] - 1s 10ms/step - loss: 0.3270 - accuracy: 0.8734 - val_loss: 1.1307 - val_accuracy: 0.5433\n",
      "Epoch 6/30\n",
      "94/94 [==============================] - 1s 10ms/step - loss: 0.2414 - accuracy: 0.9174 - val_loss: 1.0214 - val_accuracy: 0.4567\n",
      "Epoch 7/30\n",
      "94/94 [==============================] - 1s 10ms/step - loss: 0.1872 - accuracy: 0.9420 - val_loss: 0.9229 - val_accuracy: 0.5340\n",
      "Epoch 8/30\n",
      "94/94 [==============================] - 1s 10ms/step - loss: 0.1211 - accuracy: 0.9684 - val_loss: 0.9856 - val_accuracy: 0.6152\n",
      "Epoch 9/30\n",
      "94/94 [==============================] - 1s 10ms/step - loss: 0.0689 - accuracy: 0.9883 - val_loss: 0.5565 - val_accuracy: 0.7723\n",
      "Epoch 10/30\n",
      "94/94 [==============================] - 1s 10ms/step - loss: 0.0467 - accuracy: 0.9953 - val_loss: 1.9315 - val_accuracy: 0.4913\n",
      "Epoch 11/30\n",
      "94/94 [==============================] - 1s 10ms/step - loss: 0.0456 - accuracy: 0.9937 - val_loss: 1.0263 - val_accuracy: 0.6525\n",
      "Epoch 12/30\n",
      "94/94 [==============================] - 1s 10ms/step - loss: 0.0203 - accuracy: 1.0000 - val_loss: 1.1496 - val_accuracy: 0.6418\n",
      "Epoch 13/30\n",
      "94/94 [==============================] - 1s 10ms/step - loss: 0.0092 - accuracy: 1.0000 - val_loss: 0.4375 - val_accuracy: 0.8429\n",
      "Epoch 14/30\n",
      "94/94 [==============================] - 1s 10ms/step - loss: 0.0071 - accuracy: 0.9997 - val_loss: 0.4582 - val_accuracy: 0.8509\n",
      "Epoch 15/30\n",
      "94/94 [==============================] - 1s 9ms/step - loss: 0.0045 - accuracy: 1.0000 - val_loss: 0.4544 - val_accuracy: 0.8429\n",
      "Epoch 16/30\n",
      "94/94 [==============================] - 1s 10ms/step - loss: 0.0034 - accuracy: 1.0000 - val_loss: 0.4673 - val_accuracy: 0.8389\n",
      "Epoch 17/30\n",
      "94/94 [==============================] - 1s 10ms/step - loss: 0.0028 - accuracy: 1.0000 - val_loss: 0.4757 - val_accuracy: 0.8375\n",
      "Epoch 18/30\n",
      "94/94 [==============================] - 1s 10ms/step - loss: 0.0022 - accuracy: 1.0000 - val_loss: 0.4642 - val_accuracy: 0.8375\n",
      "Epoch 18: early stopping\n"
     ]
    }
   ],
   "source": [
    "from tensorflow.keras.callbacks import EarlyStopping\n",
    "early_stop=EarlyStopping(monitor='val_loss',mode='min',verbose=1,patience=5)\n",
    "history=model.fit(x_train,y_train,validation_data=(x_val,y_val),epochs=30,callbacks=[early_stop],shuffle=True)\n"
   ]
  },
  {
   "cell_type": "markdown",
   "metadata": {},
   "source": [
    "# Model Evaluation\n",
    "\n",
    "The best way to visualize our model training is by using the loss and accuracy graphs. The following codes can be used to get the loss and accuracy graphs for our trained model:"
   ]
  },
  {
   "cell_type": "code",
   "execution_count": 77,
   "metadata": {},
   "outputs": [
    {
     "data": {
      "image/png": "[encoded data removed]",
      "text/plain": [
       "<Figure size 640x480 with 1 Axes>"
      ]
     },
     "metadata": {},
     "output_type": "display_data"
    },
    {
     "data": {
      "text/plain": [
       "<matplotlib.legend.Legend at 0x21e4c29efd0>"
      ]
     },
     "execution_count": 77,
     "metadata": {},
     "output_type": "execute_result"
    },
    {
     "data": {
      "image/png": "[encoded data removed]",
      "text/plain": [
       "<Figure size 640x480 with 1 Axes>"
      ]
     },
     "metadata": {},
     "output_type": "display_data"
    }
   ],
   "source": [
    "#loss graph\n",
    "plt.plot(history.history['loss'],label='train loss')\n",
    "plt.plot(history.history['val_loss'],label='val loss')\n",
    "plt.legend()\n",
    "plt.savefig('loss-graph.png')\n",
    "plt.show()\n",
    "# accuracies\n",
    "plt.plot(history.history['accuracy'], label='train acc')\n",
    "plt.plot(history.history['val_accuracy'], label='val acc')\n",
    "plt.legend()"
   ]
  },
  {
   "cell_type": "code",
   "execution_count": 79,
   "metadata": {},
   "outputs": [
    {
     "name": "stdout",
     "output_type": "stream",
     "text": [
      "14/14 [==============================] - 0s 25ms/step\n",
      "0.8899521531100478\n",
      "              precision    recall  f1-score   support\n",
      "\n",
      "           0       0.92      0.91      0.92       223\n",
      "           1       0.88      0.85      0.86        67\n",
      "           2       0.84      0.87      0.85       128\n",
      "\n",
      "    accuracy                           0.89       418\n",
      "   macro avg       0.88      0.88      0.88       418\n",
      "weighted avg       0.89      0.89      0.89       418\n",
      "\n",
      "[[204   3  16]\n",
      " [  5  57   5]\n",
      " [ 12   5 111]]\n"
     ]
    }
   ],
   "source": [
    "# confusion matrix  \n",
    "y_pred=model.predict(x_test)\n",
    "y_pred=np.argmax(y_pred,axis=1)\n",
    "print(accuracy_score(y_test,y_pred))\n",
    "print(classification_report(y_test,y_pred))\n",
    "print(confusion_matrix(y_test,y_pred))\n",
    "\n",
    "model.save('model.h5')"
   ]
  },
  {
   "cell_type": "code",
   "execution_count": null,
   "metadata": {},
   "outputs": [],
   "source": []
  },
  {
   "cell_type": "markdown",
   "metadata": {},
   "source": [
    "# Build Gradio web app"
   ]
  },
  {
   "cell_type": "code",
   "execution_count": 2,
   "metadata": {},
   "outputs": [
    {
     "name": "stderr",
     "output_type": "stream",
     "text": [
      "C:\\Users\\AezersX\\AppData\\Local\\Temp\\ipykernel_45668\\821007422.py:18: GradioDeprecationWarning: Usage of gradio.inputs is deprecated, and will not be supported in the future, please import your component from gradio.components\n",
      "  image = gr.inputs.Image(shape=(100, 100))\n",
      "C:\\Users\\AezersX\\AppData\\Local\\Temp\\ipykernel_45668\\821007422.py:18: GradioDeprecationWarning: `optional` parameter is deprecated, and it has no effect\n",
      "  image = gr.inputs.Image(shape=(100, 100))\n",
      "C:\\Users\\AezersX\\AppData\\Local\\Temp\\ipykernel_45668\\821007422.py:19: GradioDeprecationWarning: Usage of gradio.outputs is deprecated, and will not be supported in the future, please import your components from gradio.components\n",
      "  label = gr.outputs.Label(num_top_classes=3)\n",
      "C:\\Users\\AezersX\\AppData\\Local\\Temp\\ipykernel_45668\\821007422.py:19: GradioUnusedKwargWarning: You have unused kwarg parameters in Label, please remove them: {'type': 'auto'}\n",
      "  label = gr.outputs.Label(num_top_classes=3)\n",
      "C:\\Users\\AezersX\\AppData\\Local\\Temp\\ipykernel_45668\\821007422.py:21: GradioDeprecationWarning: `capture_session` parameter is deprecated, and it has no effect\n",
      "  gr.Interface(fn=classify_image, inputs=image, outputs=label, capture_session=True).launch()\n"
     ]
    },
    {
     "name": "stdout",
     "output_type": "stream",
     "text": [
      "Running on local URL:  http://127.0.0.1:7861\n",
      "\n",
      "To create a public link, set `share=True` in `launch()`.\n"
     ]
    },
    {
     "data": {
      "text/html": [
       "<div><iframe src=\"http://127.0.0.1:7861/\" width=\"100%\" height=\"500\" allow=\"autoplay; camera; microphone; clipboard-read; clipboard-write;\" frameborder=\"0\" allowfullscreen></iframe></div>"
      ],
      "text/plain": [
       "<IPython.core.display.HTML object>"
      ]
     },
     "metadata": {},
     "output_type": "display_data"
    },
    {
     "data": {
      "text/plain": []
     },
     "execution_count": 2,
     "metadata": {},
     "output_type": "execute_result"
    },
    {
     "name": "stdout",
     "output_type": "stream",
     "text": [
      "IMPORTANT: You are using gradio version 3.50.0, however version 4.29.0 is available, please upgrade.\n",
      "--------\n",
      "1/1 [==============================] - 0s 117ms/step\n",
      "1/1 [==============================] - 0s 21ms/step\n",
      "1/1 [==============================] - 0s 18ms/step\n",
      "1/1 [==============================] - 0s 17ms/step\n"
     ]
    }
   ],
   "source": [
    "import gradio as gr\n",
    "import tensorflow as tf\n",
    "from PIL import Image\n",
    "import numpy as np\n",
    "\n",
    "model = tf.keras.models.load_model(\"model.h5\")\n",
    "\n",
    "def classify_image(image):\n",
    "    img = Image.fromarray(image.astype('uint8'), 'RGB')  # Convert to PIL Image\n",
    "    img = img.resize((100, 100))                       # Resize\n",
    "    img_array = np.array(img)                          \n",
    "    img_array = img_array / 255.0                      # Normalize\n",
    "    img_array = np.expand_dims(img_array, axis=0)      # Add batch dimension\n",
    "\n",
    "    prediction = model.predict(img_array).flatten()\n",
    "    return {str(i): float(prediction[i]) for i in range(3)}\n",
    "\n",
    "image = gr.inputs.Image(shape=(100, 100))\n",
    "label = gr.outputs.Label(num_top_classes=3)\n",
    "\n",
    "gr.Interface(fn=classify_image, inputs=image, outputs=label, capture_session=True).launch()\n"
   ]
  },
  {
   "cell_type": "code",
   "execution_count": null,
   "metadata": {},
   "outputs": [],
   "source": []
  }
 ],
 "metadata": {
  "kernelspec": {
   "display_name": "tensorflow",
   "language": "python",
   "name": "python3"
  },
  "language_info": {
   "codemirror_mode": {
    "name": "ipython",
    "version": 3
   },
   "file_extension": ".py",
   "mimetype": "text/x-python",
   "name": "python",
   "nbconvert_exporter": "python",
   "pygments_lexer": "ipython3",
   "version": "3.9.18"
  }
 },
 "nbformat": 4,
 "nbformat_minor": 2
}
